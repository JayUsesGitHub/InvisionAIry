{
 "cells": [
  {
   "cell_type": "markdown",
   "metadata": {},
   "source": [
    "**Python Basics Lab**\n",
    "\n",
    "**Objective:**\n",
    "Learn the fundamentals of Python programming, including variables, data types, operators, control flow, functions, and basic input/output."
   ]
  },
  {
   "cell_type": "markdown",
   "metadata": {},
   "source": [
    "**Step 1: Python Variables and Data Types**\n",
    "\n",
    "In Python, variables are used to store information, and you don't need to specify the data type. Let's look at different data types: integers, floats, strings, and booleans."
   ]
  },
  {
   "cell_type": "code",
   "execution_count": null,
   "metadata": {},
   "outputs": [],
   "source": [
    "# Integer (whole number)\n",
    "my_int = 10\n",
    "print(\"Integer:\", my_int)\n",
    "\n",
    "# Float (decimal number)\n",
    "my_float = 3.14\n",
    "print(\"Float:\", my_float)\n",
    "\n",
    "# String (text)\n",
    "my_string = \"Hello, Python!\"\n",
    "print(\"String:\", my_string)\n",
    "\n",
    "# Boolean (True/False)\n",
    "my_bool = True\n",
    "print(\"Boolean:\", my_bool)"
   ]
  },
  {
   "cell_type": "markdown",
   "metadata": {},
   "source": [
    "**Lab Task:**\n",
    "\n",
    "1) Create a variable for your age (integer).\n",
    "2) Create a variable for your height (float).\n",
    "3) Create a variable for your name (string).\n",
    "4) Create a variable that shows if you like Python (boolean)."
   ]
  },
  {
   "cell_type": "code",
   "execution_count": null,
   "metadata": {},
   "outputs": [],
   "source": []
  },
  {
   "cell_type": "markdown",
   "metadata": {},
   "source": [
    "**Step 2: Basic Math Operations**\n",
    "\n",
    "Python can perform arithmetic operations like addition, subtraction, multiplication, and division."
   ]
  },
  {
   "cell_type": "code",
   "execution_count": null,
   "metadata": {},
   "outputs": [],
   "source": [
    "# Addition\n",
    "result_add = 10 + 5\n",
    "print(\"10 + 5 =\", result_add)\n",
    "\n",
    "# Subtraction\n",
    "result_sub = 10 - 5\n",
    "print(\"10 - 5 =\", result_sub)\n",
    "\n",
    "# Multiplication\n",
    "result_mul = 10 * 5\n",
    "print(\"10 * 5 = \", result_mul)\n",
    "\n",
    "# Division\n",
    "result_div = 10 / 5\n",
    "print(\"10 / 5 =\", result_div)"
   ]
  },
  {
   "cell_type": "markdown",
   "metadata": {},
   "source": [
    "**Lab Task:**\n",
    "\n",
    "1) Calculate the product of your age and 5.\n",
    "2) Divide your height by 2."
   ]
  },
  {
   "cell_type": "code",
   "execution_count": null,
   "metadata": {},
   "outputs": [],
   "source": []
  },
  {
   "cell_type": "markdown",
   "metadata": {},
   "source": [
    "**Step 3: Control Flow (If Else Statements)**\n",
    "\n",
    "Python can make decisions based on conditions. The **if-else** statements let the program decide which block of code to run."
   ]
  },
  {
   "cell_type": "code",
   "execution_count": null,
   "metadata": {},
   "outputs": [],
   "source": [
    "# Example: Checking if a number is positive or negative\n",
    "number = -3\n",
    "\n",
    "if number > 0:\n",
    "    print(\"The number is positive\")\n",
    "else:\n",
    "    print(\"The number is negative or zero\")"
   ]
  },
  {
   "cell_type": "markdown",
   "metadata": {},
   "source": [
    "**Lab Task:**\n",
    "\n",
    "1) Write an **if-else** statement that checks if your age is greater than 18. If true, print \"You are an adult.\" If false, print \"You are a minor.\""
   ]
  },
  {
   "cell_type": "code",
   "execution_count": null,
   "metadata": {},
   "outputs": [],
   "source": []
  },
  {
   "cell_type": "markdown",
   "metadata": {},
   "source": [
    "**Step 4: Loops**\n",
    "\n",
    "Python has two main types of loops: **for** and **while**. Loops allow us to repeat actions multiple times."
   ]
  },
  {
   "cell_type": "markdown",
   "metadata": {},
   "source": [
    "**for** loop"
   ]
  },
  {
   "cell_type": "code",
   "execution_count": null,
   "metadata": {},
   "outputs": [],
   "source": [
    "# Example: Print each letter of a word\n",
    "word = \"Python\"\n",
    "\n",
    "for letter in word:\n",
    "    print(letter)"
   ]
  },
  {
   "cell_type": "markdown",
   "metadata": {},
   "source": [
    "**while** loop"
   ]
  },
  {
   "cell_type": "code",
   "execution_count": null,
   "metadata": {},
   "outputs": [],
   "source": [
    "# Example: Print numbers 1 to 5\n",
    "count = 1\n",
    "\n",
    "while count <= 5:\n",
    "    print(count)\n",
    "    count += 1 # Increment (add) the count by 1"
   ]
  },
  {
   "cell_type": "markdown",
   "metadata": {},
   "source": [
    "**Lab Task:**\n",
    "\n",
    "1) Use a **for** loop to print each character of your name.\n",
    "2) Write a **while** loop to print numbers from 1 to your age."
   ]
  },
  {
   "cell_type": "code",
   "execution_count": null,
   "metadata": {},
   "outputs": [],
   "source": []
  },
  {
   "cell_type": "markdown",
   "metadata": {},
   "source": [
    "**Step 5: Functions**\n",
    "\n",
    "Functions are blocks of code that perform a specific task. You can reuse functions throughout your code."
   ]
  },
  {
   "cell_type": "code",
   "execution_count": null,
   "metadata": {},
   "outputs": [],
   "source": [
    "# Example: Function that greets a person\n",
    "def greet(name):\n",
    "    print(\"Hello, \" + name + \"!\")\n",
    "\n",
    "# Calling the function\n",
    "greet(\"Jay\")"
   ]
  },
  {
   "cell_type": "markdown",
   "metadata": {},
   "source": [
    "**Lab Task:**\n",
    "\n",
    "1) Create a function that takes your name as input and prints \"Hello, [Your Name]!\"\n",
    "2) Create a function that takes two numbers as inputs and returns their sum."
   ]
  },
  {
   "cell_type": "code",
   "execution_count": null,
   "metadata": {},
   "outputs": [],
   "source": []
  },
  {
   "cell_type": "markdown",
   "metadata": {},
   "source": [
    "**Step 6: Lists**\n",
    "\n",
    "Lists are used to store multiple items in a single variable."
   ]
  },
  {
   "cell_type": "code",
   "execution_count": null,
   "metadata": {},
   "outputs": [],
   "source": [
    "# Create a list of favorite fruits\n",
    "fruits = [\"Apple\", \"Banana\", \"Cherry\"]\n",
    "\n",
    "# Accessing elements in the list\n",
    "print(\"First fruit:\", fruits[0]) # Indexing starts from 0\n",
    "\n",
    "# Adding an item to the list\n",
    "fruits.append(\"Orange\")\n",
    "print(\"Fruits after adding Orange:\", fruits)"
   ]
  },
  {
   "cell_type": "markdown",
   "metadata": {},
   "source": [
    "**Lab Task:**\n",
    "\n",
    "1) Create a list of your three favorite movies.\n",
    "2) Add another movie to the list using **append()**."
   ]
  },
  {
   "cell_type": "code",
   "execution_count": null,
   "metadata": {},
   "outputs": [],
   "source": []
  },
  {
   "cell_type": "markdown",
   "metadata": {},
   "source": [
    "**Step 7: Basic Input and Output**\n",
    "\n",
    "You can get input from the user using **input()** and print results using **print()**"
   ]
  },
  {
   "cell_type": "code",
   "execution_count": null,
   "metadata": {},
   "outputs": [],
   "source": [
    "# Example: Asking for the user's name and greeting them\n",
    "user_name = input(\"Enter your name: \")\n",
    "print(\"Hello, \" + user_name + \"!\")"
   ]
  },
  {
   "cell_type": "markdown",
   "metadata": {},
   "source": [
    "**Lab Task:**\n",
    "\n",
    "1) Write a program that asks for the user's age and prints \"You are [age] years old.\"\n",
    "2) Write a program that asks for two numbers, adds them, and prints the result."
   ]
  },
  {
   "cell_type": "code",
   "execution_count": null,
   "metadata": {},
   "outputs": [],
   "source": []
  },
  {
   "cell_type": "markdown",
   "metadata": {},
   "source": [
    "**Step 8: Comments**\n",
    "\n",
    "Comments are used to explain code. They are ignored when the code runs. Single-line comments start with **#**, and multi-line comments can be written using triple quotes (\"\"\" \"\"\")."
   ]
  },
  {
   "cell_type": "code",
   "execution_count": null,
   "metadata": {},
   "outputs": [],
   "source": [
    "# This is a single-line comment\n",
    "\n",
    "\"\"\"\n",
    "This is a\n",
    "multi-line comment\n",
    "\"\"\""
   ]
  },
  {
   "cell_type": "markdown",
   "metadata": {},
   "source": [
    "**Summary:**\n",
    "\n",
    "In this lab, we covered:\n",
    "* **Variables and Data Types:** Integers, floats, strings, and booleans.\n",
    "* **Basic Math Operations:** Addition, subtraction, multiplication, and division.\n",
    "* **Control Flow:** Making decisions using **if-else**.\n",
    "* **Loops:** Repeating actions with **for** and **while** loops.\n",
    "* **Functions:** Creating reusable blocks of code.\n",
    "* **Lists:** Storing multiple items in a list.\n",
    "* **Input and Output:** Getting input from the user and displaying results.\n",
    "* **Comments:** Explaining your code."
   ]
  }
 ],
 "metadata": {
  "kernelspec": {
   "display_name": "Python 3",
   "language": "python",
   "name": "python3"
  },
  "language_info": {
   "codemirror_mode": {
    "name": "ipython",
    "version": 3
   },
   "file_extension": ".py",
   "mimetype": "text/x-python",
   "name": "python",
   "nbconvert_exporter": "python",
   "pygments_lexer": "ipython3",
   "version": "3.12.4"
  }
 },
 "nbformat": 4,
 "nbformat_minor": 2
}
