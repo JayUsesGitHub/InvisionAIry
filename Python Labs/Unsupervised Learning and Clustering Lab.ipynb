{
 "cells": [
  {
   "cell_type": "markdown",
   "metadata": {},
   "source": [
    "**Lab: Unsupervised Learning and Clustering**\n",
    "\n",
    "In this lab, you will explore clustering algorithms such as K-Means, Hierarchical Clustering, and DBSCAN in Python. By the end of this lab, you should be able to apply these clustering techniques to a dataset, visualize the results, and compare the performance of each algorithm."
   ]
  },
  {
   "cell_type": "markdown",
   "metadata": {},
   "source": [
    "**Lab Setup:**\n",
    "\n",
    "**Required Libraries:**\n",
    "\n",
    "Make sure you have the following Python libraries installed:\n",
    "* numpy\n",
    "* matplotlib\n",
    "* pandas \n",
    "* scikit-learn\n",
    "* scipy\n",
    "\n",
    "You can install them using:"
   ]
  },
  {
   "cell_type": "code",
   "execution_count": null,
   "metadata": {},
   "outputs": [],
   "source": [
    "pip install numpy matplotlib pandas scikit-learn scipy"
   ]
  },
  {
   "cell_type": "markdown",
   "metadata": {},
   "source": [
    "**Dataset:**\n",
    "\n",
    "We'll use the **Iris dataset**, which is available in scikit-learn. This dataset contains measurements of 150 iris flowers across four features: sepal length, sepal width, petal length, and petal width."
   ]
  },
  {
   "cell_type": "markdown",
   "metadata": {},
   "source": [
    "**Load and Explore the Iris Dataset**"
   ]
  },
  {
   "cell_type": "markdown",
   "metadata": {},
   "source": [
    "Step 1: Import libraries and load the dataset"
   ]
  },
  {
   "cell_type": "code",
   "execution_count": null,
   "metadata": {},
   "outputs": [],
   "source": [
    "from sklearn.datasets import load_iris\n",
    "import pandas as pd\n",
    "\n",
    "# Load the Iris dataset\n",
    "iris = load_iris()\n",
    "data = pd.DataFrame(iris.data, columns=iris.feature_names)\n",
    "data['target'] = iris.target  # Add target labels for later comparison\n",
    "\n",
    "# Print the first few rows\n",
    "print(data.head())"
   ]
  },
  {
   "cell_type": "markdown",
   "metadata": {},
   "source": [
    "**Task:**\n",
    "\n",
    "* Examine the dataset. What features are present?\n",
    "* How many different species (targets) are there?"
   ]
  },
  {
   "cell_type": "markdown",
   "metadata": {},
   "source": [
    "**K-Means Clustering**"
   ]
  },
  {
   "cell_type": "markdown",
   "metadata": {},
   "source": [
    "Step 2: Implement K-Means Clustering"
   ]
  },
  {
   "cell_type": "code",
   "execution_count": null,
   "metadata": {},
   "outputs": [],
   "source": [
    "from sklearn.cluster import KMeans\n",
    "import matplotlib.pyplot as plt\n",
    "\n",
    "# Initialize and fit K-Means with 3 clusters\n",
    "kmeans = KMeans(n_clusters=3)\n",
    "kmeans.fit(data.iloc[:, :-1])  # Exclude the target column\n",
    "\n",
    "# Add the K-Means cluster labels to the DataFrame\n",
    "data['kmeans_labels'] = kmeans.labels_\n",
    "\n",
    "# Visualize the clustering\n",
    "plt.scatter(data.iloc[:, 0], data.iloc[:, 1], c=data['kmeans_labels'], cmap='viridis')\n",
    "plt.title('K-Means Clustering on Iris Dataset')\n",
    "plt.xlabel(iris.feature_names[0])\n",
    "plt.ylabel(iris.feature_names[1])\n",
    "plt.show()"
   ]
  },
  {
   "cell_type": "markdown",
   "metadata": {},
   "source": [
    "**Task:**\n",
    "\n",
    "* Run the K-Means algorithm and visualize the clusters.\n",
    "* Experiment with different numbers of clusters (__n_clusters__ parameter) and observe how the results change."
   ]
  },
  {
   "cell_type": "markdown",
   "metadata": {},
   "source": [
    "**Hierarchical Clustering**"
   ]
  },
  {
   "cell_type": "markdown",
   "metadata": {},
   "source": [
    "Step 3: Perform Hierarchical Clustering"
   ]
  },
  {
   "cell_type": "code",
   "execution_count": null,
   "metadata": {},
   "outputs": [],
   "source": [
    "from scipy.cluster.hierarchy import dendrogram, linkage\n",
    "\n",
    "# Perform hierarchical clustering (Ward's method)\n",
    "linked = linkage(data.iloc[:, :-2], method='ward')\n",
    "\n",
    "# Plot the dendrogram\n",
    "plt.figure(figsize=(10, 7))\n",
    "dendrogram(linked, labels=data['target'].values, leaf_rotation=90)\n",
    "plt.title('Hierarchical Clustering Dendrogram (Ward\\'s Method)')\n",
    "plt.show()"
   ]
  },
  {
   "cell_type": "markdown",
   "metadata": {},
   "source": [
    "**Task:**\n",
    "\n",
    "* Interpret the dendrogram. How many clusters are evident from the plot?\n",
    "* Where could you potentially \"cut\" the dendrogram to obtain meaningful clusters?"
   ]
  },
  {
   "cell_type": "markdown",
   "metadata": {},
   "source": [
    "**DBSCAN Clustering**"
   ]
  },
  {
   "cell_type": "markdown",
   "metadata": {},
   "source": [
    "Step 4: Implement DBSCAN Clustering"
   ]
  },
  {
   "cell_type": "code",
   "execution_count": null,
   "metadata": {},
   "outputs": [],
   "source": [
    "from sklearn.cluster import DBSCAN\n",
    "import numpy as np\n",
    "\n",
    "# Initialize and fit DBSCAN\n",
    "dbscan = DBSCAN(eps=0.5, min_samples=5)\n",
    "dbscan_labels = dbscan.fit_predict(data.iloc[:, :-2])\n",
    "\n",
    "# Add DBSCAN cluster labels to the DataFrame\n",
    "data['dbscan_labels'] = dbscan_labels\n",
    "\n",
    "# Visualize DBSCAN clustering\n",
    "plt.scatter(data.iloc[:, 0], data.iloc[:, 1], c=data['dbscan_labels'], cmap='plasma')\n",
    "plt.title('DBSCAN Clustering on Iris Dataset')\n",
    "plt.xlabel(iris.feature_names[0])\n",
    "plt.ylabel(iris.feature_names[1])\n",
    "plt.show()"
   ]
  },
  {
   "cell_type": "markdown",
   "metadata": {},
   "source": [
    "**Task:**\n",
    "\n",
    "* Experiment with different values of **eps** and **min_samples** to see how the clustering changes.\n",
    "* Identify any noise points (points that don't belong to any cluster)."
   ]
  },
  {
   "cell_type": "markdown",
   "metadata": {},
   "source": [
    "**Comparison of Clustering Algorithms**"
   ]
  },
  {
   "cell_type": "markdown",
   "metadata": {},
   "source": [
    "Step 5: Compare Clustering Results"
   ]
  },
  {
   "cell_type": "code",
   "execution_count": null,
   "metadata": {},
   "outputs": [],
   "source": [
    "# Create a table to compare clustering labels with true labels\n",
    "comparison_table = data[['target', 'kmeans_labels', 'dbscan_labels']]\n",
    "\n",
    "# Print the comparison\n",
    "print(comparison_table.head(10))"
   ]
  },
  {
   "cell_type": "markdown",
   "metadata": {},
   "source": [
    "**Task:**\n",
    "\n",
    "* Compare the clustering results of K-Means and DBSCAN with the actual target labels.\n",
    "* Which algorithm seems to best capture the underlying patterns of the data?"
   ]
  },
  {
   "cell_type": "markdown",
   "metadata": {},
   "source": [
    "**Lab Questions:**\n",
    "1) **K-Means Analysis:**\n",
    "\n",
    "* Why did we use K = 3 for K-Means in this lab? What happens if you change it to 2 or 4 clusters?\n",
    "* Discuss how K-Means clustering results compare with the true species labels.\n",
    "\n",
    "2) **Hierarchical Clustering Analysis:**\n",
    "\n",
    "* What insights can you gather from the dendrogram? How does hierarchical clustering differ from K-Means?\n",
    "* Could you \"cut\" the dendrogram at a different point to obtain a different number of clusters?\n",
    "\n",
    "3) **DBSCAN Analysis:**\n",
    "\n",
    "* What effect does changing the eps and min_samples parameters have on DBSCAN clustering?\n",
    "* How does DBSCAN handle noise compared to K-Means and Hierarchical Clustering?\n",
    "\n",
    "4) **Overall Comparison:**\n",
    "\n",
    "* Compare the results of K-Means, Hierarchical, and DBSCAN clustering. Which algorithm performed the best, and why?\n",
    "* Which algorithm would you recommend for clustering the Iris dataset and why?"
   ]
  }
 ],
 "metadata": {
  "kernelspec": {
   "display_name": "Python 3",
   "language": "python",
   "name": "python3"
  },
  "language_info": {
   "codemirror_mode": {
    "name": "ipython",
    "version": 3
   },
   "file_extension": ".py",
   "mimetype": "text/x-python",
   "name": "python",
   "nbconvert_exporter": "python",
   "pygments_lexer": "ipython3",
   "version": "3.12.4"
  }
 },
 "nbformat": 4,
 "nbformat_minor": 2
}
