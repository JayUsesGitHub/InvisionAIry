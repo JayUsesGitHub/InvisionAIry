{
 "cells": [
  {
   "cell_type": "markdown",
   "metadata": {},
   "source": [
    "**Train-Test Split Lab - Python**\n",
    "\n",
    "**Objective:**\n",
    "\n",
    "In this lab, you'll learn how to split a dataset into training and testing sets using the `train_test_split()` function from Scikit-learn. This is an essential step in machine learning to evaluate model performance."
   ]
  },
  {
   "cell_type": "code",
   "execution_count": 37,
   "metadata": {},
   "outputs": [],
   "source": [
    "# Step 1: Import required libraries\n",
    "import numpy as np\n",
    "import pandas as pd\n",
    "from sklearn.model_selection import train_test_split\n",
    "from sklearn.linear_model import LinearRegression\n",
    "from sklearn.metrics import mean_squared_error"
   ]
  },
  {
   "cell_type": "code",
   "execution_count": 38,
   "metadata": {},
   "outputs": [],
   "source": [
    "# Step 2: Creating a simple dataset for demonstration\n",
    "data = {\n",
    "    'Hours_Studied': [1.5, 2.5, 3.0, 4.0, 5.0, 6.0, 7.0, 8.0, 9.0, 10.0],\n",
    "    'Previous_Grades': [50, 60, 65, 70, 75, 80, 85, 90, 95, 100],\n",
    "    'Test_Score': [55, 58, 60, 65, 70, 78, 85, 88, 93, 97]\n",
    "}"
   ]
  },
  {
   "cell_type": "markdown",
   "metadata": {},
   "source": [
    "**Task 1: Load a Dataset**\n",
    "\n",
    "* Use `pd.DataFrame()` to load the dataset.\n",
    "* **Deliverable:** Print the dataset to understand the features and target variables."
   ]
  },
  {
   "cell_type": "code",
   "execution_count": null,
   "metadata": {},
   "outputs": [],
   "source": [
    "# Load the data into a Pandas DataFrame\n",
    "\n",
    "# Deliverable: Print the dataset"
   ]
  },
  {
   "cell_type": "markdown",
   "metadata": {},
   "source": [
    "**Task 2: Separate Features and Target** \n",
    "\n",
    "* Separate the dataset into features (X) and target label (y). The features (X) are the columns that contain data used to predict the target. The target (y) is the column that contains the values to be predicted.\n",
    "* **Deliverable:** Print X and y to verify the split."
   ]
  },
  {
   "cell_type": "code",
   "execution_count": null,
   "metadata": {},
   "outputs": [],
   "source": [
    "# Defining the features (X) and the target label (y)\n",
    "\n",
    "# Deliverable: Print features (X) and target (y)"
   ]
  },
  {
   "cell_type": "markdown",
   "metadata": {},
   "source": [
    "**Task 3: Split the Data**\n",
    "* Use `train_test_split()` to split the data into training and testing sets.\n",
    "* Split the dataset using an 80-20 ratio for training and testing sets.\n",
    "* **Deliverable:** Display the shapes of `X_train`, `X_test`, `y_train`, and `y_test` to verify the split."
   ]
  },
  {
   "cell_type": "code",
   "execution_count": null,
   "metadata": {},
   "outputs": [],
   "source": [
    "# Splitting the data into training and testing sets (80% training, 20% testing)\n",
    "\n",
    "# Deliverable: Print the shapes of the training and testing sets"
   ]
  },
  {
   "cell_type": "markdown",
   "metadata": {},
   "source": [
    "**Task 4: Model Training and Testing (Optional)** \n",
    "* Train a simple model (e.g., Linear Regression) using the training set, then test it on the testing set.\n",
    "* Use a basic model like Linear Regression or Decision Tree to predict the target variable.\n",
    "* **Deliverable:** Print the accuracy of the model on the training and testing sets."
   ]
  },
  {
   "cell_type": "code",
   "execution_count": null,
   "metadata": {},
   "outputs": [],
   "source": [
    "# Using Linear Regression to train the model on the training set\n",
    "\n",
    "# Fit the model to the training data\n",
    "\n",
    "# Predicting test set results\n",
    "\n",
    "# Deliverable: Calculate and print the model's accuracy on training and test sets (Mean Squared Error)\n",
    "\n",
    "# Optional: Print predicted values on the test set and actual test values"
   ]
  },
  {
   "cell_type": "markdown",
   "metadata": {},
   "source": [
    "**Lab Questions**\n",
    "\n",
    "Answer the following questions after completing this lab:\n",
    "\n",
    "1) What is the purpose of splitting the data into training and testing sets?\n",
    "2) Why is it important to evaluate a model's performance on data it hasn't seen before?\n",
    "3) What could happen if we don’t use a train-test split (i.e., if we test on the same data we trained on)?"
   ]
  }
 ],
 "metadata": {
  "kernelspec": {
   "display_name": "Python 3",
   "language": "python",
   "name": "python3"
  },
  "language_info": {
   "codemirror_mode": {
    "name": "ipython",
    "version": 3
   },
   "file_extension": ".py",
   "mimetype": "text/x-python",
   "name": "python",
   "nbconvert_exporter": "python",
   "pygments_lexer": "ipython3",
   "version": "3.12.4"
  }
 },
 "nbformat": 4,
 "nbformat_minor": 2
}
