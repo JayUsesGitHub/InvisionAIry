{
 "cells": [
  {
   "cell_type": "markdown",
   "metadata": {},
   "source": [
    "**Lab: Train-Test Split in Python (with KNN)**\n",
    "\n",
    "**Objective**\n",
    "In this lab, you will learn how to:\n",
    "* Perform a train-test split on a dataset.\n",
    "* Train a K-Nearest Neighbor (KNN) classifier on the training data.\n",
    "* Evaluate the model's accuracy on the test data.\n",
    "\n",
    "By the end of this lab, you will have a working understanding of the basic process of training and testing a machine learning model."
   ]
  },
  {
   "cell_type": "markdown",
   "metadata": {},
   "source": [
    "**Steps for the Lab**"
   ]
  },
  {
   "cell_type": "markdown",
   "metadata": {},
   "source": [
    "Step 1: Import Required Libraries\n",
    "\n",
    "First, open your Python environment and import the following libraries:"
   ]
  },
  {
   "cell_type": "code",
   "execution_count": 1,
   "metadata": {},
   "outputs": [],
   "source": [
    "# Importing libraries\n",
    "from sklearn.datasets import load_iris  # Dataset\n",
    "from sklearn.model_selection import train_test_split  # Train-test split\n",
    "from sklearn.neighbors import KNeighborsClassifier  # KNN model\n",
    "from sklearn.metrics import accuracy_score  # Accuracy metric"
   ]
  },
  {
   "cell_type": "markdown",
   "metadata": {},
   "source": [
    "Step 2: Load the Dataset\n",
    "\n",
    "We will use the **Iris dataset** for this lab. The Iris dataset contains data about the features of different types of iris flowers (like petal length, sepal length, etc.) and their corresponding species."
   ]
  },
  {
   "cell_type": "code",
   "execution_count": 2,
   "metadata": {},
   "outputs": [],
   "source": [
    "# Load the Iris dataset\n",
    "iris = load_iris()\n",
    "\n",
    "# Features and labels\n",
    "X = iris.data  # Features (sepal length, petal width, etc.)\n",
    "y = iris.target  # Target labels (species of iris)"
   ]
  },
  {
   "cell_type": "markdown",
   "metadata": {},
   "source": [
    "Step 3: Perform the Train-Test Split\n",
    "\n",
    "To avoid **overfitting**, we split the dataset into two parts: 80% for training and 20% for testing. This way, the model will be trained on one set and evaluated on unseen data."
   ]
  },
  {
   "cell_type": "code",
   "execution_count": null,
   "metadata": {},
   "outputs": [],
   "source": [
    "# Splitting the data into training and testing sets\n",
    "X_train, X_test, y_train, y_test = train_test_split(X, y, test_size=0.2, random_state=42)\n",
    "\n",
    "# Print the shapes of the training and testing sets to verify the split\n",
    "print(f\"Training Set Shape: {X_train.shape}\")\n",
    "print(f\"Testing Set Shape: {X_test.shape}\")"
   ]
  },
  {
   "cell_type": "markdown",
   "metadata": {},
   "source": [
    "Step 4: Train the KNN Model\n",
    "\n",
    "We will use the **K-Nearest Neighbors (KNN)** algorithm for classification. In KNN, a data point is classified by a majority vote of its neighbors. We will set the number of neighbors to 3 in this example."
   ]
  },
  {
   "cell_type": "code",
   "execution_count": null,
   "metadata": {},
   "outputs": [],
   "source": [
    "# Create and train the KNN model\n",
    "knn = KNeighborsClassifier(n_neighbors=3)  # K=3\n",
    "knn.fit(X_train, y_train)  # Train the model"
   ]
  },
  {
   "cell_type": "markdown",
   "metadata": {},
   "source": [
    "Step 5: Test the Model\n",
    "\n",
    "Once the model is trained, we can use it to make predictions on the test data (data the model hasn't seen before)."
   ]
  },
  {
   "cell_type": "code",
   "execution_count": null,
   "metadata": {},
   "outputs": [],
   "source": [
    "# Predict the labels for the test set\n",
    "y_pred = knn.predict(X_test)\n",
    "\n",
    "# Print the predictions\n",
    "print(f\"Predicted Labels: {y_pred}\")"
   ]
  },
  {
   "cell_type": "markdown",
   "metadata": {},
   "source": [
    "Step 6: Evaluate the Model\n",
    "\n",
    "The model's accuracy is the percentage of correct predictions on the test set. We'll compare the predicted labels to the actual labels to calculate the accuracy."
   ]
  },
  {
   "cell_type": "code",
   "execution_count": 6,
   "metadata": {},
   "outputs": [
    {
     "name": "stdout",
     "output_type": "stream",
     "text": [
      "Model Accuracy: 100.00%\n"
     ]
    }
   ],
   "source": [
    "# Calculate and print the model's accuracy\n",
    "accuracy = accuracy_score(y_test, y_pred)\n",
    "print(f\"Model Accuracy: {accuracy * 100:.2f}%\")"
   ]
  },
  {
   "cell_type": "markdown",
   "metadata": {},
   "source": [
    "**Lab Questions**\n",
    "\n",
    "Answer the following questions after completing this lab:\n",
    "\n",
    "1) What is the purpose of splitting the data into training and testing sets?\n",
    "2) Why is it important to evaluate a model's performance on data it hasn't seen before?\n",
    "3) What could happen if we don’t use a train-test split (i.e., if we test on the same data we trained on)?\n",
    "4) How does changing the number of neighbors (n_neighbors) in KNN affect the model's accuracy?"
   ]
  }
 ],
 "metadata": {
  "kernelspec": {
   "display_name": "Python 3",
   "language": "python",
   "name": "python3"
  },
  "language_info": {
   "codemirror_mode": {
    "name": "ipython",
    "version": 3
   },
   "file_extension": ".py",
   "mimetype": "text/x-python",
   "name": "python",
   "nbconvert_exporter": "python",
   "pygments_lexer": "ipython3",
   "version": "3.12.4"
  }
 },
 "nbformat": 4,
 "nbformat_minor": 2
}
