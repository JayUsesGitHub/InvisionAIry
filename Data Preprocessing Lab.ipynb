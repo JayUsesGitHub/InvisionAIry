{
 "cells": [
  {
   "cell_type": "markdown",
   "metadata": {},
   "source": [
    "**Lab: Data Preprocessing in Python**\n",
    "\n",
    "Objective:\n",
    "By the end of this lab, students will be able to:\n",
    "\n",
    "* Load a dataset into Python.\n",
    "* Handle missing values.\n",
    "* Encode categorical data.\n",
    "* Scale features for machine learning models.\n",
    "\n",
    "Materials:\n",
    "* A computer with Python installed.\n",
    "* Access to Jupyter Notebook or any Python IDE (e.g., PyCharm, VSCode).\n",
    "* A sample dataset (e.g., Titanic dataset available from Kaggle or UCI Machine Learning Repository).\n",
    "\n",
    "Dataset:\n",
    "For this lab, we'll use the Titanic dataset. It contains passenger information such as age, sex, and fare, and the goal is to predict survival."
   ]
  },
  {
   "cell_type": "markdown",
   "metadata": {},
   "source": [
    "**Setting Up the Environment**"
   ]
  },
  {
   "cell_type": "markdown",
   "metadata": {},
   "source": [
    "1. Install Required Libraries: Make sure you have the necessary Python libraries installed. Open your terminal or command prompt and run:"
   ]
  },
  {
   "cell_type": "markdown",
   "metadata": {},
   "source": [
    "2. Import Libraries: Open your Jupyter Notebook or Python IDE and start a new Python script. Import the following libraries:"
   ]
  },
  {
   "cell_type": "code",
   "execution_count": 1,
   "metadata": {},
   "outputs": [],
   "source": [
    "import numpy as np\n",
    "import pandas as pd\n",
    "from sklearn.preprocessing import StandardScaler, LabelEncoder, OneHotEncoder\n",
    "from io import StringIO"
   ]
  },
  {
   "cell_type": "markdown",
   "metadata": {},
   "source": [
    "**Loading the Dataset**"
   ]
  },
  {
   "cell_type": "markdown",
   "metadata": {},
   "source": [
    "1. Load the Dataset: We'll use a sample Titanic dataset provided below. Load it using Pandas:"
   ]
  },
  {
   "cell_type": "code",
   "execution_count": 2,
   "metadata": {},
   "outputs": [],
   "source": [
    "data = \"\"\"\n",
    "PassengerId,Survived,Pclass,Name,Sex,Age,SibSp,Parch,Ticket,Fare,Embarked\n",
    "1,0,3,'Braund, Mr. Owen Harris',male,22,1,0,'A/5 21171',7.25,S\n",
    "2,1,1,'Cumings, Mrs. John Bradley (Florence Briggs Thayer)',female,38,1,0,'PC 17599',71.2833,C\n",
    "3,1,3,'Heikkinen, Miss. Laina',female,26,0,0,'STON/O2. 3101282',7.925,S\n",
    "4,1,1,'Futrelle, Mrs. Jacques Heath (Lily May Peel)',female,35,1,0,'113803',53.1,S\n",
    "5,0,3,'Allen, Mr. William Henry',male,35,0,0,'373450',8.05,S\n",
    "6,0,3,'Morley, Mr. John',male,40,0,0,'A/5 21171',8.05,S\n",
    "7,0,1,'Davis, Mr. John',male,27,1,0,'A/5 21171',8.05,S\n",
    "8,1,2,'Wilkes, Mrs. James (Ellen Needs)',female,30,1,0,'A/5 21171',8.05,S\n",
    "9,1,3,'Bonnell, Miss. Elizabeth',female,22,1,0,'A/5 21171',8.05,S\n",
    "10,0,2,'McCarthy, Mr. Timothy',male,23,0,0,'A/5 21171',8.05,S\n",
    "\"\"\"\n",
    "\n",
    "df = pd.read_csv(StringIO(data))"
   ]
  },
  {
   "cell_type": "markdown",
   "metadata": {},
   "source": [
    "2. Explore the Dataset: Check the first few rows of the dataset to understand its structure:"
   ]
  },
  {
   "cell_type": "code",
   "execution_count": null,
   "metadata": {},
   "outputs": [],
   "source": [
    "print(df.head())"
   ]
  },
  {
   "cell_type": "markdown",
   "metadata": {},
   "source": [
    "**Handling Missing Values**"
   ]
  },
  {
   "cell_type": "markdown",
   "metadata": {},
   "source": [
    "1. Identify Missing Values: Find out which columns have missing values and their count:"
   ]
  },
  {
   "cell_type": "code",
   "execution_count": null,
   "metadata": {},
   "outputs": [],
   "source": [
    "print(df.isnull().sum())"
   ]
  },
  {
   "cell_type": "markdown",
   "metadata": {},
   "source": [
    "2. Impute Missing Values: For simplicity, fill missing values in the Age column with the mean value, and fill missing values in Embarked with the most frequent value:"
   ]
  },
  {
   "cell_type": "code",
   "execution_count": 5,
   "metadata": {},
   "outputs": [],
   "source": [
    "df['Age'] = df['Age'].fillna(df['Age'].mean())\n",
    "df['Fare'] = df['Fare'].fillna(df['Fare'].mean())\n",
    "df['Embarked'] = df['Embarked'].fillna(df['Embarked'].mode()[0])"
   ]
  },
  {
   "cell_type": "markdown",
   "metadata": {},
   "source": [
    "3. Verify Changes: Confirm that there are no missing values left:"
   ]
  },
  {
   "cell_type": "code",
   "execution_count": null,
   "metadata": {},
   "outputs": [],
   "source": [
    "print(df.isnull().sum())"
   ]
  },
  {
   "cell_type": "markdown",
   "metadata": {},
   "source": [
    "**Encoding Categorical Data**"
   ]
  },
  {
   "cell_type": "markdown",
   "metadata": {},
   "source": [
    "1. Label Encoding: Convert the Sex column to numeric values:"
   ]
  },
  {
   "cell_type": "code",
   "execution_count": 7,
   "metadata": {},
   "outputs": [],
   "source": [
    "label_encoder = LabelEncoder()\n",
    "df['Sex'] = label_encoder.fit_transform(df['Sex'])"
   ]
  },
  {
   "cell_type": "markdown",
   "metadata": {},
   "source": [
    "2. One-Hot Encoding: Convert the Embarked column to one-hot encoded variables:"
   ]
  },
  {
   "cell_type": "code",
   "execution_count": 8,
   "metadata": {},
   "outputs": [],
   "source": [
    "onehot_encoder = OneHotEncoder(sparse_output=False)\n",
    "embarked_encoded = onehot_encoder.fit_transform(df[['Embarked']])\n",
    "df = pd.concat([df, pd.DataFrame(embarked_encoded, columns=onehot_encoder.get_feature_names_out(['Embarked']))], axis=1)\n",
    "df.drop('Embarked', axis=1, inplace=True)"
   ]
  },
  {
   "cell_type": "markdown",
   "metadata": {},
   "source": [
    "3. Verify Encoding: Check the updated dataframe:"
   ]
  },
  {
   "cell_type": "code",
   "execution_count": null,
   "metadata": {},
   "outputs": [],
   "source": [
    "print(df.head())"
   ]
  },
  {
   "cell_type": "markdown",
   "metadata": {},
   "source": [
    "**Feature Scaling**"
   ]
  },
  {
   "cell_type": "markdown",
   "metadata": {},
   "source": [
    "1. Select Features for Scaling: Identify which features to scale (e.g., Age, Fare):"
   ]
  },
  {
   "cell_type": "code",
   "execution_count": 10,
   "metadata": {},
   "outputs": [],
   "source": [
    "features_to_scale = ['Age', 'Fare']"
   ]
  },
  {
   "cell_type": "markdown",
   "metadata": {},
   "source": [
    "2. Apply Scaling: Standardize these features:"
   ]
  },
  {
   "cell_type": "code",
   "execution_count": 11,
   "metadata": {},
   "outputs": [],
   "source": [
    "scaler = StandardScaler()\n",
    "df[features_to_scale] = scaler.fit_transform(df[features_to_scale])"
   ]
  },
  {
   "cell_type": "markdown",
   "metadata": {},
   "source": [
    "3. Verify Scaling: Check the scaled features:"
   ]
  },
  {
   "cell_type": "code",
   "execution_count": null,
   "metadata": {},
   "outputs": [],
   "source": [
    "print(df[features_to_scale].head())"
   ]
  },
  {
   "cell_type": "markdown",
   "metadata": {},
   "source": [
    "**Summary**"
   ]
  },
  {
   "cell_type": "markdown",
   "metadata": {},
   "source": [
    "1. Save the Preprocessed Data: Save your preprocessed dataset to a new CSV file:"
   ]
  },
  {
   "cell_type": "code",
   "execution_count": 13,
   "metadata": {},
   "outputs": [],
   "source": [
    "df.to_csv('titanic_preprocessed.csv', index=False)"
   ]
  },
  {
   "cell_type": "markdown",
   "metadata": {},
   "source": [
    "**Lab Questions**\n",
    "\n",
    "Answer the following questions after completing this lab:\n",
    "\n",
    "1) What challenges did you encounter while preprocessing the data?\n",
    "2) How do you think each preprocessing step (handling missing values, encoding, scaling) affects the performance of a machine learning model?\n",
    "3) Can you think of additional preprocessing steps that might be necessary for different types of datasets?"
   ]
  }
 ],
 "metadata": {
  "kernelspec": {
   "display_name": "Python 3",
   "language": "python",
   "name": "python3"
  },
  "language_info": {
   "codemirror_mode": {
    "name": "ipython",
    "version": 3
   },
   "file_extension": ".py",
   "mimetype": "text/x-python",
   "name": "python",
   "nbconvert_exporter": "python",
   "pygments_lexer": "ipython3",
   "version": "3.12.4"
  }
 },
 "nbformat": 4,
 "nbformat_minor": 2
}
